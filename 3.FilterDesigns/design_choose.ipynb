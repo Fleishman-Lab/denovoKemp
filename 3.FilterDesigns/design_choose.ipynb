{
 "cells": [
  {
   "cell_type": "code",
   "execution_count": 17,
   "metadata": {},
   "outputs": [],
   "source": [
    "import pandas as pd\n",
    "import numpy as np\n",
    "import matplotlib.pyplot as plt"
   ]
  },
  {
   "cell_type": "code",
   "execution_count": 18,
   "metadata": {},
   "outputs": [],
   "source": [
    "def sigmoid(x, mu, sigma):\n",
    "    z = (x-mu) / sigma\n",
    "    return 1 / (1 + np.exp(z))"
   ]
  },
  {
   "cell_type": "code",
   "execution_count": 19,
   "metadata": {},
   "outputs": [],
   "source": [
    "all_scores=pd.read_csv('combined_csv.csv')\n",
    "all_scores.dropna(axis=1, how='all', inplace=True)\n",
    "all_scores.set_index('Unnamed: 0.1', inplace=True)\n",
    "all_scores['if_vdw']=all_scores['if_X_fa_atr']+all_scores['if_X_fa_rep']\n",
    "all_scores['ligand_vdw']=all_scores['ligand_fa_atr']+all_scores['ligand_fa_rep']\n",
    "all_scores['carboxy_vdw']=all_scores['carboxy_fa_atr']+all_scores['carboxy_fa_rep']"
   ]
  },
  {
   "cell_type": "code",
   "execution_count": null,
   "metadata": {},
   "outputs": [],
   "source": [
    "import re\n",
    "from shutil import copy\n",
    "import os\n",
    "\n",
    "# calculate sigmoid for all_cst and computed_ddg\n",
    "sig_filters=['if_vdw','total_score/len_prot','ligand_fa_sol','carboxy_vdw','totalS_rank','dihedral_constraint', 'angle_constraint', 'atom_pair_constraint']\n",
    "\n",
    "label='final_1000'\n",
    "\n",
    "dm=all_scores[(all_scores['NO2_dist1'] > 15)] \n",
    "print(len(dm))\n",
    "\n",
    "temp_df=pd.DataFrame()\n",
    "for i in sig_filters:\n",
    "    if i!='totalS_rank':\n",
    "        print(i)\n",
    "        mean=dm[i].mean()\n",
    "        std=dm[i].std()\n",
    "        name= i + '_sig'\n",
    "        temp_df[name] = dm[i].apply(lambda x: sigmoid(x, mu=mean, sigma=std))  \n",
    "    else:\n",
    "        print(i +'_loop2')\n",
    "        name= i + '_sig'\n",
    "        temp_df[name]=1 / (1 + np.exp(dm[i]))\n",
    "    \n",
    "        \n",
    "\n",
    "sig_mult= temp_df['if_vdw_sig']*temp_df['total_score/len_prot_sig']* temp_df['ligand_fa_sol_sig']* temp_df['totalS_rank_sig'] * (temp_df['dihedral_constraint_sig']* temp_df['angle_constraint_sig']* temp_df['atom_pair_constraint_sig'])**(1/2)\n",
    "\n",
    "sig_mult.plot.hist(bins=100, range=[-1, 1.5], label='sig_mult')\n",
    "best_mult=sig_mult.nlargest(1000).index.tolist()\n",
    "\n",
    "\n",
    "save_dir= f'saveDir/{label}'\n",
    "\n",
    "try:\n",
    "    os.mkdir(save_dir)\n",
    "except:\n",
    "    pass\n",
    "\n",
    "Mlist=[]\n",
    "for i in best_mult:\n",
    "    bb=i.split('_')[3]\n",
    "    Mlist.append('{bb}_0001/pdbs/{des}.pdb.gz'.format(bb=bb, des=i))\n",
    "with open('get_top1000.txt','w') as f:\n",
    "    f.write('\\n'.join(Mlist))\n",
    "    \n",
    "for i in best_mult:\n",
    "    bb=i.split('_')[3]\n",
    "    cat_res=[p for p in re.findall(r'\\d+',i.split('_')[2])]\n",
    "    copy('<matchDesign>/pdbs/{des}.pdb.gz'.format(bb=bb, des=i), save_dir+'/{num}_{des}.pdb.gz'.format(num=best_mult.index(i),des=i))\n",
    "    print('show sticks, {num}_{des} AND resi {c}+{a}'.format(num=best_mult.index(i), des=i, c=cat_res[0], a=cat_res[1]))\n",
    "print('hide (hydro)')\n",
    "print('show cartoon')\n",
    "print('show sticks, resn UNK')"
   ]
  }
 ],
 "metadata": {
  "kernelspec": {
   "display_name": "Python 3 (ipykernel)",
   "language": "python",
   "name": "python3"
  },
  "language_info": {
   "codemirror_mode": {
    "name": "ipython",
    "version": 3
   },
   "file_extension": ".py",
   "mimetype": "text/x-python",
   "name": "python",
   "nbconvert_exporter": "python",
   "pygments_lexer": "ipython3",
   "version": "3.8.5"
  }
 },
 "nbformat": 4,
 "nbformat_minor": 4
}
