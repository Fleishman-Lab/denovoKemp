{
 "cells": [
  {
   "cell_type": "code",
   "execution_count": 1,
   "metadata": {},
   "outputs": [],
   "source": [
    "import pandas as pd\n",
    "#import numpy as np\n",
    "#import matplotlib.pyplot as plt\n",
    "from glob import glob\n",
    "import re\n",
    "from shutil import copy\n",
    "import os"
   ]
  },
  {
   "cell_type": "code",
   "execution_count": 2,
   "metadata": {},
   "outputs": [],
   "source": [
    "def sigmoid(x, mu, sigma):\n",
    "    z = (x-mu) / sigma\n",
    "    return 1 / (1 + np.exp(z))"
   ]
  },
  {
   "cell_type": "code",
   "execution_count": 28,
   "metadata": {},
   "outputs": [],
   "source": [
    "# calculate sigmoid for all_cst and computed_ddg\n",
    "sig_filters=['total_score','ligand_vdw','ligand_fa_sol','carboxy_vdw', 'carbox_fa_sol']\n",
    "\n",
    "structs=glob('funclib_enum/*UM*')\n",
    "bad=0\n",
    "mutations=[]\n",
    "ddG=[]\n",
    "for struct in structs:\n",
    "    all_scores=pd.read_csv(glob(struct+ '/FL_summary*_all.csv')[0])\n",
    "    orig=len(all_scores)\n",
    "    all_scores.set_index('serial_number', inplace=True)\n",
    "    all_scores['ligand_vdw']=all_scores['ligand_fa_atr']+all_scores['ligand_fa_rep']\n",
    "    all_scores['carboxy_vdw']=all_scores['carbox_fa_atr']+all_scores['carbox_fa_rep']\n",
    "    all_scores=all_scores[(all_scores['ligand_fa_sol'] <= all_scores.iloc[0]['ligand_fa_sol']) &\n",
    "                  (all_scores['ligand_vdw'] <= all_scores.iloc[0]['ligand_vdw']) &\n",
    "                 (all_scores['carboxy_vdw'] <= all_scores.iloc[0]['carboxy_vdw']) &\n",
    "                 (all_scores['carbox_fa_sol'] <= all_scores.iloc[0]['carbox_fa_sol'])]\n",
    "    #print('removed '+str(orig- len(all_scores))+ ' designs. this is the precentage left '+ str(len(all_scores)/orig*100.))\n",
    "\n",
    "    best_struct=all_scores['total_score'].nsmallest(1).index.tolist()[0]\n",
    "    line=all_scores.loc[all_scores['total_score'].nsmallest(1).index.tolist()[0]]\n",
    "    mutations.append(line['mutations'])\n",
    "    ddG.append(all_scores.iloc[0]['total_score']- all_scores.loc[best_struct]['total_score'])\n",
    "#    if all_scores.iloc[0]['total_score']!= all_scores.loc[best_struct]['total_score']:\n",
    "    #    print(struct, all_scores.iloc[0]['total_score'], all_scores.loc[best_struct]['total_score'] )\n",
    "#        pdb=glob('best_pdbs/'+struct[:-30]+'*')[0]\n",
    "#        original_pdb=glob('in/pdbs/'+struct[:-30]+'*')[0]\n",
    "    #    copy(original_pdb, 'examine_throughly/')\n",
    "    #    copy(pdb, 'examine_throughly/')\n",
    "    #    bad+=1\n",
    "    #with open(struct+'/serials','w') as f:\n",
    "    #    f.write(best_struct)\n",
    "    #compare_WT=pd.concat([all_scores.iloc[0],all_scores.loc[best_struct]], axis=1)\n",
    "    #compare_WT=compare_WT.loc[sig_filters]\n",
    "    #compare_WT.to_csv(struct+'/compare_WT.csv')\n",
    "    \n",
    "    #pdb_path=glob(struct+'/pdbs*/Design_serials/pdbs/'+best_struct+'*')[0]\n",
    "    #print(pdb_path)\n",
    "    #bad+=1\n",
    "    #new_name='_'.join(pdb_path.split('/')[-1].split('_')[2:-1])+'_'+best_struct+'.pdb'\n",
    "#    copy(pdb_path, 'best_pdbs/'+new_name)\n",
    "    #cat_res=[p for p in re.findall(r'\\d+',struct.split('_')[3])]\n",
    "\n",
    "    #des='_'.join(struct.split('_')[:-4])\n",
    "    #print('show sticks, {des}_{best_struct} AND resi {c}+{a}'.format(best_struct=best_struct, des=des, c=cat_res[0], a=cat_res[1]))\n",
    "\n",
    "#print('need to delete that many structures: '+ str(bad))"
   ]
  },
  {
   "cell_type": "code",
   "execution_count": 12,
   "metadata": {},
   "outputs": [
    {
     "ename": "NameError",
     "evalue": "name 'original_pdb' is not defined",
     "output_type": "error",
     "traceback": [
      "\u001b[0;31m---------------------------------------------------------------------------\u001b[0m",
      "\u001b[0;31mNameError\u001b[0m                                 Traceback (most recent call last)",
      "\u001b[0;32m<ipython-input-12-f7d29142bf42>\u001b[0m in \u001b[0;36m<module>\u001b[0;34m\u001b[0m\n\u001b[0;32m----> 1\u001b[0;31m \u001b[0moriginal_pdb\u001b[0m\u001b[0;34m\u001b[0m\u001b[0;34m\u001b[0m\u001b[0m\n\u001b[0m",
      "\u001b[0;31mNameError\u001b[0m: name 'original_pdb' is not defined"
     ]
    }
   ],
   "source": [
    "original_pdb"
   ]
  },
  {
   "cell_type": "code",
   "execution_count": 66,
   "metadata": {},
   "outputs": [
    {
     "data": {
      "text/plain": [
       "['36_UM_261_D156W107_bb2246_0001_theozime_1_0001_design_13Jul_1534',\n",
       " '2_UM_18_D46W107_bb139_0001_theozime_1_0001_design_13Jul_1534',\n",
       " '65_UM_305_D162F113_bb957_0001_theozime_1_0001_design_13Jul_1537',\n",
       " '99_UM_203_E157W111_bb1356_0001_theozime_1_0001_design_13Jul_1541',\n",
       " '35_UM_116_E82W132_bb1412_0001_theozime_1_0001_design_13Jul_1534',\n",
       " '13_UM_232_D156W107_bb1771_0001_theozime_1_0001_design_13Jul_1537',\n",
       " '55_UM_264_D164F235_bb1548_0001_theozime_1_0001_design_13Jul_1535',\n",
       " '52_UM_364_D185W136_bb520_0001_theozime_1_0001_design_13Jul_1534',\n",
       " '25_UM_76_D86F164_bb825_0001_theozime_1_0001_design_13Jul_1534',\n",
       " '81_UM_256_D156W107_bb22_0001_theozime_1_0001_design_13Jul_1535',\n",
       " '53_UM_173_E86Y215_bb1608_0001_theozime_1_0001_design_13Jul_1538',\n",
       " '22_UM_270_D156W107_bb2046_0001_theozime_1_0001_design_13Jul_1537',\n",
       " '40_UM_123_E108W131_bb448_0001_theozime_1_0001_design_13Jul_1534',\n",
       " '41_UM_129_E111W134_bb659_0001_theozime_1_0001_design_13Jul_1534',\n",
       " '11_UM_117_E103W126_bb1940_0001_theozime_1_0001_design_13Jul_1540',\n",
       " '15_UM_20_D54W115_bb1364_0001_theozime_1_0001_design_13Jul_1535',\n",
       " '37_UM_339_D207F107_bb2019_0001_theozime_1_0001_design_13Jul_1534',\n",
       " '58_UM_306_D178W128_bb1021_0001_theozime_1_0001_design_13Jul_1537',\n",
       " '86_UM_140_E111Y213_bb944_0001_theozime_1_0001_design_13Jul_1537',\n",
       " '72_UM_46_E107W130_bb845_0001_theozime_1_0001_design_13Jul_1535',\n",
       " '78_UM_336_D183W134_bb2386_0001_theozime_1_0001_design_13Jul_1535',\n",
       " '56_UM_257_D165Y240_bb1647_0001_theozime_1_0001_design_13Jul_1537',\n",
       " '0_UM_36_D51W131_bb2327_0001_theozime_1_0001_design_13Jul_1535',\n",
       " '59_UM_307_D164W115_bb20_0001_theozime_1_0001_design_13Jul_1537',\n",
       " '18_UM_247_D163W115_bb355_0001_theozime_1_0001_design_13Jul_1535',\n",
       " '16_UM_203_D161W112_bb351_0001_theozime_1_0001_design_13Jul_1539',\n",
       " '31_UM_225_D160W111_bb1399_0001_theozime_1_0001_design_13Jul_1534',\n",
       " '27_UM_167_D128W107_bb139_0001_theozime_1_0001_design_13Jul_1534',\n",
       " '67_UM_336_D186W136_bb1092_0001_theozime_1_0001_design_13Jul_1535',\n",
       " '7_UM_103_E108W131_bb742_0001_theozime_1_0001_design_13Jul_1535',\n",
       " '97_UM_118_E84W134_bb1152_0001_theozime_1_0001_design_13Jul_1536',\n",
       " '1_UM_294_D164W115_bb2329_0001_theozime_1_0001_design_13Jul_1537',\n",
       " '30_UM_277_D164F239_bb561_0001_theozime_1_0001_design_13Jul_1534',\n",
       " '26_UM_115_E113W136_bb1363_0001_theozime_1_0001_design_13Jul_1534',\n",
       " '96_UM_270_E162W115_bb2329_0001_theozime_1_0001_design_13Jul_1536',\n",
       " '64_UM_333_D178W128_bb196_0001_theozime_1_0001_design_13Jul_1539',\n",
       " '12_UM_244_D160W112_bb1808_0001_theozime_1_0001_design_13Jul_1537',\n",
       " '63_UM_330_D180W130_bb1339_0001_theozime_1_0001_design_13Jul_1537',\n",
       " '87_UM_232_E162W115_bb1264_0001_theozime_1_0001_design_13Jul_1537',\n",
       " '33_UM_100_E83W213_bb1857_0001_theozime_1_0001_design_13Jul_1534',\n",
       " '24_UM_376_D185W136_bb1073_0001_theozime_1_0001_design_13Jul_1534',\n",
       " '5_UM_234_D160W112_bb1951_0001_theozime_1_0001_design_13Jul_1537',\n",
       " '77_UM_244_E154W107_bb2285_0001_theozime_1_0001_design_13Jul_1535',\n",
       " '42_UM_75_E113W136_bb1092_0001_theozime_1_0001_design_13Jul_1534',\n",
       " '60_UM_306_E162W115_bb1607_0001_theozime_1_0001_design_13Jul_1537']"
      ]
     },
     "execution_count": 66,
     "metadata": {},
     "output_type": "execute_result"
    }
   ],
   "source": [
    "structs"
   ]
  },
  {
   "cell_type": "code",
   "execution_count": 18,
   "metadata": {},
   "outputs": [
    {
     "data": {
      "text/plain": [
       "description                0301010101010101010102020101_0001\n",
       "42A                                                        C\n",
       "46A                                                        I\n",
       "76A                                                        A\n",
       "78A                                                        T\n",
       "105A                                                       L\n",
       "128A                                                       V\n",
       "130A                                                       I\n",
       "174A                                                       I\n",
       "176A                                                       A\n",
       "178A                                                       I\n",
       "204A                                                       L\n",
       "206A                                                       I\n",
       "208A                                                       I\n",
       "226A                                                       A\n",
       "total_score                                         -838.666\n",
       "allcst                                                 5.502\n",
       "angle_constraint                                       0.057\n",
       "atom_pair_constraint                                   0.026\n",
       "carbox_fa_atr                                         -6.499\n",
       "carbox_fa_rep                                          0.488\n",
       "carbox_fa_sol                                          5.453\n",
       "chainbreak                                                 0\n",
       "coordinate_constraint                                  4.905\n",
       "ddg_noLigand                                         -14.144\n",
       "designable                                                79\n",
       "dihedral_constraint                                    0.514\n",
       "dslf_fa13                                                  0\n",
       "fa_atr                                              -1507.41\n",
       "fa_dun                                               301.264\n",
       "                                         ...                \n",
       "fa_intra_sol_xover4                                   49.112\n",
       "fa_rep                                               192.062\n",
       "fa_sol                                               853.873\n",
       "hbond_bb_sc                                          -64.303\n",
       "hbond_lr_bb                                          -57.792\n",
       "hbond_sc                                             -42.931\n",
       "hbond_sr_bb                                          -90.045\n",
       "int_RMSD                                                0.24\n",
       "ligand_fa_atr                                         -8.189\n",
       "ligand_fa_rep                                          1.435\n",
       "ligand_fa_sol                                         -0.136\n",
       "lk_ball_wtd                                          -25.223\n",
       "lsasa                                                  0.895\n",
       "metalbinding_constraint                                    0\n",
       "omega                                                 28.496\n",
       "p_aa_pp                                              -58.597\n",
       "pro_close                                              1.452\n",
       "rama_prepro                                          -28.226\n",
       "ref                                                   55.215\n",
       "res_type_constraint                                        0\n",
       "rms_NL_allProt                                         0.131\n",
       "rms_NL_arom                                             0.55\n",
       "rms_NL_carbox                                              0\n",
       "shape_comp                                             0.781\n",
       "total_energy                                        -838.666\n",
       "total_sasa                                           11500.2\n",
       "yhh_planarity                                          0.023\n",
       "mutations                                                  3\n",
       "ligand_vdw                                            -6.754\n",
       "carboxy_vdw                                           -6.011\n",
       "Name: 0301010101010101010102020101, Length: 62, dtype: object"
      ]
     },
     "execution_count": 18,
     "metadata": {},
     "output_type": "execute_result"
    }
   ],
   "source": [
    "all_scores.loc['0301010101010101010102020101']"
   ]
  },
  {
   "cell_type": "code",
   "execution_count": 34,
   "metadata": {},
   "outputs": [
    {
     "data": {
      "text/plain": [
       "4.884730769230749"
      ]
     },
     "execution_count": 34,
     "metadata": {},
     "output_type": "execute_result"
    }
   ],
   "source": [
    "sum(ddG)/26."
   ]
  },
  {
   "cell_type": "code",
   "execution_count": 37,
   "metadata": {},
   "outputs": [
    {
     "data": {
      "text/plain": [
       "1.7777777777777777"
      ]
     },
     "execution_count": 37,
     "metadata": {},
     "output_type": "execute_result"
    }
   ],
   "source": [
    "sum(mutations)/45"
   ]
  },
  {
   "cell_type": "code",
   "execution_count": null,
   "metadata": {},
   "outputs": [],
   "source": []
  }
 ],
 "metadata": {
  "kernelspec": {
   "display_name": "Python (flab)",
   "language": "python",
   "name": "flab"
  },
  "language_info": {
   "codemirror_mode": {
    "name": "ipython",
    "version": 3
   },
   "file_extension": ".py",
   "mimetype": "text/x-python",
   "name": "python",
   "nbconvert_exporter": "python",
   "pygments_lexer": "ipython3",
   "version": "3.6.8"
  }
 },
 "nbformat": 4,
 "nbformat_minor": 2
}
